{
 "cells": [
  {
   "cell_type": "markdown",
   "id": "4b627839",
   "metadata": {},
   "source": [
    "# Navara training 2: Pandas & Scikit-learn"
   ]
  },
  {
   "cell_type": "code",
   "execution_count": 1,
   "id": "90fa0a35",
   "metadata": {},
   "outputs": [],
   "source": [
    "# Import libraries"
   ]
  },
  {
   "cell_type": "markdown",
   "id": "df117575",
   "metadata": {},
   "source": [
    "## Opdracht 3: Lees de data in (naar een dataframe)"
   ]
  },
  {
   "cell_type": "code",
   "execution_count": null,
   "id": "8c3bb767",
   "metadata": {},
   "outputs": [],
   "source": []
  },
  {
   "cell_type": "markdown",
   "id": "4dbdf2ab",
   "metadata": {},
   "source": [
    "## Opdracht 4: Check de datatypes van het dataframe"
   ]
  },
  {
   "cell_type": "code",
   "execution_count": null,
   "id": "2584d45f",
   "metadata": {},
   "outputs": [],
   "source": []
  },
  {
   "cell_type": "markdown",
   "id": "363b21e4",
   "metadata": {},
   "source": [
    "## Opdracht 5: Verander de dtype van de column 'Date' naar de juiste dtype en sorteer op 'Date'"
   ]
  },
  {
   "cell_type": "code",
   "execution_count": null,
   "id": "048fe3df",
   "metadata": {},
   "outputs": [],
   "source": []
  },
  {
   "cell_type": "markdown",
   "id": "f93e8761",
   "metadata": {},
   "source": [
    "## Opdracht 6: Bereken de gemiddelde MaxTemp per maand"
   ]
  },
  {
   "cell_type": "code",
   "execution_count": null,
   "id": "d4e44948",
   "metadata": {},
   "outputs": [],
   "source": []
  },
  {
   "cell_type": "markdown",
   "id": "52298b6a",
   "metadata": {},
   "source": [
    "## Opdracht 7: bereken het cumulatieve gemiddelde MinTemp per maand\n",
    "Wat we willen is dat wanner in een bepaalde maand, op dag 1 de temperatuur 10 graden is en op dag 2 14 graden. \n",
    "Dan is het gemiddelde in die maand op dag 2 (10+14)/2 = 12 graden. Bij dag 3 (waar het 18 graden is), zal de gemiddelde temperatuur dus (10+14+18)/3=14 graden bedragen.\n",
    "\n",
    "Tip: zorg dat het dataframe gesorteerd is op datum."
   ]
  },
  {
   "cell_type": "code",
   "execution_count": null,
   "id": "ecc4ff44",
   "metadata": {},
   "outputs": [],
   "source": []
  },
  {
   "cell_type": "markdown",
   "id": "04304efd",
   "metadata": {},
   "source": [
    "## Opdracht 8: Maak een nieuwe column aan die aangeeft of het 'cold', 'average' of 'hot' is op basis van het gemiddelde van MinTemp en MaxTemp. \n",
    "Plot eerst de gemiddelde temperatuur en bepaal zelf tussen welke waardes het moet liggen om aan te geven of het 'cold', 'average' of 'hot' is."
   ]
  },
  {
   "cell_type": "code",
   "execution_count": null,
   "id": "2093d207",
   "metadata": {},
   "outputs": [],
   "source": []
  },
  {
   "cell_type": "markdown",
   "id": "e93e5ca5",
   "metadata": {},
   "source": [
    "## Opdracht 9: wrap it up! Maak een pipeline (functie) die alle voorgaande functies uitvoert en wegschrijft naar een SQL database\n",
    "Tip: gebruik sqlite3"
   ]
  },
  {
   "cell_type": "code",
   "execution_count": null,
   "id": "231c651b",
   "metadata": {},
   "outputs": [],
   "source": []
  },
  {
   "cell_type": "markdown",
   "id": "58a5473b",
   "metadata": {},
   "source": [
    "## Opdracht 10: Lees de data uit de SQL database naar een dataframe en gebruik datum als index"
   ]
  },
  {
   "cell_type": "code",
   "execution_count": null,
   "id": "31b48f2b",
   "metadata": {},
   "outputs": [],
   "source": []
  },
  {
   "cell_type": "markdown",
   "id": "f1c1eced",
   "metadata": {},
   "source": [
    "## Bonusopdracht: schrijf zelf een grouped mean imputer voor Sklearn.\n",
    "De transformer moet op basis van een groep (e.g. Location) het gemiddelde imputen voor missende waarden\n",
    "\n",
    "Tip: schrijf een class die inherit van BaseEstimator en TransformerMixin"
   ]
  },
  {
   "cell_type": "code",
   "execution_count": null,
   "id": "3467d6d8",
   "metadata": {},
   "outputs": [],
   "source": []
  }
 ],
 "metadata": {
  "kernelspec": {
   "display_name": "Python 3",
   "language": "python",
   "name": "python3"
  },
  "language_info": {
   "codemirror_mode": {
    "name": "ipython",
    "version": 3
   },
   "file_extension": ".py",
   "mimetype": "text/x-python",
   "name": "python",
   "nbconvert_exporter": "python",
   "pygments_lexer": "ipython3",
   "version": "3.7.7"
  }
 },
 "nbformat": 4,
 "nbformat_minor": 5
}
